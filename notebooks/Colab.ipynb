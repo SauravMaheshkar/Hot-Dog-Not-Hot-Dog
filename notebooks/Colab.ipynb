{
  "nbformat": 4,
  "nbformat_minor": 0,
  "metadata": {
    "colab": {
      "name": "Hot-Dog-Not-Hot-Dog Colab",
      "provenance": [],
      "collapsed_sections": [],
      "authorship_tag": "ABX9TyNxj4Olqyt79oGo8ecghwh9",
      "include_colab_link": true
    },
    "kernelspec": {
      "name": "python3",
      "display_name": "Python 3"
    },
    "language_info": {
      "name": "python"
    },
    "accelerator": "GPU"
  },
  "cells": [
    {
      "cell_type": "markdown",
      "metadata": {
        "id": "view-in-github",
        "colab_type": "text"
      },
      "source": [
        "<a href=\"https://colab.research.google.com/github/SauravMaheshkar/Hot-Dog-Not-Hot-Dog/blob/main/notebooks/Colab.ipynb\" target=\"_parent\"><img src=\"https://colab.research.google.com/assets/colab-badge.svg\" alt=\"Open In Colab\"/></a>"
      ]
    },
    {
      "cell_type": "markdown",
      "metadata": {
        "id": "fINMBsCNzJrS"
      },
      "source": [
        "This Colab Notebook accompanies the Activeloop Blogpost titled \"<>\"."
      ]
    },
    {
      "cell_type": "markdown",
      "metadata": {
        "id": "R_zzIPp6tiuy"
      },
      "source": [
        "# Packages 📦 and Basic Setup"
      ]
    },
    {
      "cell_type": "code",
      "metadata": {
        "id": "C6_IOZPTldYz"
      },
      "source": [
        "%%capture\n",
        "!pip install hub\n",
        "!pip install --upgrade scikit-learn\n",
        "\n",
        "import os\n",
        "import hub\n",
        "import glob\n",
        "import torch\n",
        "import PIL.Image\n",
        "import numpy as np\n",
        "import torch.optim as optim\n",
        "import matplotlib.pyplot as plt\n",
        "from skimage import img_as_float\n",
        "from skimage.transform import resize\n",
        "from hub.schema import ClassLabel, Image\n",
        "from torchvision import models, transforms\n",
        "\n",
        "N_CLASSES = 2"
      ],
      "execution_count": null,
      "outputs": []
    },
    {
      "cell_type": "markdown",
      "metadata": {
        "id": "MZWDG7ls8WB1"
      },
      "source": [
        "To use your own datasets, you'll need to register on Activeloop platform. After registering, uncomment this line and login using your username and password."
      ]
    },
    {
      "cell_type": "code",
      "metadata": {
        "id": "g9bcbBYc8Tm_"
      },
      "source": [
        "# !hub login"
      ],
      "execution_count": null,
      "outputs": []
    },
    {
      "cell_type": "markdown",
      "metadata": {
        "id": "5HGhk3JYtrrF"
      },
      "source": [
        "# Advanced 🤓 Transformations"
      ]
    },
    {
      "cell_type": "code",
      "metadata": {
        "id": "SpmH8kkNltuw"
      },
      "source": [
        "%%time\n",
        "# Fetch the original Dataset\n",
        "train_dataset = hub.Dataset(\"sauravmaheshkar/hot-dog-not-hot-dog-train\")\n",
        "\n",
        "# Schema with New Image Size\n",
        "new_schema = {\n",
        "    \"resized_image\": Image(shape=(224, 224, 3), dtype=\"uint8\"),\n",
        "    \"label\": ClassLabel(num_classes=2)\n",
        "}\n",
        "\n",
        "# Transformation Pipeline\n",
        "tfms = transforms.Compose([\n",
        "    transforms.ToTensor(),\n",
        "    transforms.Normalize([0.485, 0.456, 0.406], [0.229, 0.224, 0.225]),\n",
        "])\n",
        "\n",
        "# New hub transform for resizing and normalization\n",
        "@hub.transform(schema=new_schema, scheduler=\"threaded\", workers=8)\n",
        "def resize_transform(index):\n",
        "    image = resize(train_dataset['image', index].compute(), (224, 224, 3), anti_aliasing=True)\n",
        "    image = tfms(image)\n",
        "    image = img_as_float(image.view(224, 224, 3)) \n",
        "    label = int(train_dataset['label', index].compute())\n",
        "    return {\n",
        "        \"resized_image\": image,\n",
        "        \"label\": label\n",
        "    }\n",
        "\n",
        "# New Resized Dataset instance\n",
        "resized_ds = resize_transform(range(498))\n",
        "\n",
        "# Upload Resized Dataset to Hub\n",
        "url = \"sauravmaheshkar/resized-hot-dog-not-hot-dog\"\n",
        "pytorch_dataset = resized_ds.store(url)\n",
        "pytorch_dataset.flush()"
      ],
      "execution_count": null,
      "outputs": []
    },
    {
      "cell_type": "markdown",
      "metadata": {
        "id": "flpI2dyzt5Hx"
      },
      "source": [
        "# The Model 👷‍♀️"
      ]
    },
    {
      "cell_type": "code",
      "metadata": {
        "id": "zMbb-05Lly7-"
      },
      "source": [
        "%%capture\n",
        "\n",
        "# Import Resnet18 from torchvision.models\n",
        "model = models.resnet18(pretrained=True)\n",
        "\n",
        "# Add a Pooling Layer\n",
        "model.avgpool = torch.nn.AdaptiveAvgPool2d(1)\n",
        "\n",
        "# Add a FC Layer\n",
        "model.fc = torch.nn.Linear(model.fc.in_features, N_CLASSES)"
      ],
      "execution_count": null,
      "outputs": []
    },
    {
      "cell_type": "markdown",
      "metadata": {
        "id": "qJSyJ2-JuUr_"
      },
      "source": [
        "# Training 💪🏻"
      ]
    },
    {
      "cell_type": "code",
      "metadata": {
        "id": "yaDZFVrBl2Ja"
      },
      "source": [
        "# Fetch Resized Dataset\n",
        "pytorch_dataset = hub.Dataset(\"sauravmaheshkar/resized-hot-dog-not-hot-dog\")\n",
        "\n",
        "# Convert to Pytorch Compatible Format with output type as list\n",
        "pytorch_dataset = pytorch_dataset.to_pytorch(output_type = list)\n",
        "\n",
        "# Creating DataLoader\n",
        "train_loader = torch.utils.data.DataLoader(pytorch_dataset, batch_size=32, num_workers=2)\n",
        "\n",
        "# Some Hyperparameters\n",
        "n_epochs = 20\n",
        "criterion = torch.nn.CrossEntropyLoss()\n",
        "optimizer = optim.Adam(model.parameters(), lr=0.003)\n",
        "device = torch.device(\"cuda\" if torch.cuda.is_available() else \"cpu\")\n",
        "\n",
        "model.to(device)\n",
        "\n",
        "# Training\n",
        "for epoch in range(n_epochs):\n",
        "    print(f\"Epoch {epoch}\")\n",
        "    # Setting Running Loss to Zero\n",
        "    running_loss = 0.0\n",
        "    for i, data in enumerate(train_loader, 0):\n",
        "        # Get image, label pair\n",
        "        X, y = data\n",
        "        # Convert into proper format, dtype and move to device\n",
        "        y = y.type(torch.LongTensor)\n",
        "        y = y.to(device)\n",
        "        X = X.permute(0, 3, 1, 2).float()\n",
        "        X = X.to(device)\n",
        "        # Set gradients to Zero\n",
        "        optimizer.zero_grad()\n",
        "        # Get output from the model\n",
        "        outputs = model(X)\n",
        "        # Calculate the loss\n",
        "        loss = criterion(outputs, y)\n",
        "        # Perform Backprop\n",
        "        loss.backward()\n",
        "        optimizer.step()\n",
        "\n",
        "        # Update the Loss\n",
        "        running_loss += loss.item()\n",
        "    print(f\"Loss {loss.item()}\")\n",
        "print(\"Finished Training\")"
      ],
      "execution_count": null,
      "outputs": []
    }
  ]
}